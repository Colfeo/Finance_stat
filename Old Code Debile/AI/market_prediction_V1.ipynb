{
 "cells": [
  {
   "cell_type": "code",
   "execution_count": 29,
   "id": "f53fcbbf-a62d-4aa2-be7b-9aa4e17a5e48",
   "metadata": {},
   "outputs": [],
   "source": [
    "import yfinance as yf\n",
    "import pandas as pd\n",
    "import os"
   ]
  },
  {
   "cell_type": "code",
   "execution_count": 30,
   "id": "0c4d2b51-1187-44c7-a281-da84d0381dd5",
   "metadata": {},
   "outputs": [],
   "source": [
    "\n",
    "sp500 = pd.read_excel('XMR-USDT_1min_start=2023-01-01 12/00/00_end=2023-12-01 12/00/00.xlsx', sheet_name='Sheet1')"
   ]
  },
  {
   "cell_type": "code",
   "execution_count": 31,
   "id": "f605b43c-8db9-43ae-b2d4-29fc6048b8aa",
   "metadata": {},
   "outputs": [],
   "source": [
    "TIME = 0\n",
    "OPEN = 1\n",
    "CLOSE = 2\n",
    "HIGH= 3\n",
    "LOW = 4\n",
    "VOLUME = 5\n",
    "TURNOVER = 6\n",
    "\n",
    "#sp500.index = pd.to_datetime(sp500.index)"
   ]
  },
  {
   "cell_type": "code",
   "execution_count": 32,
   "id": "fbb162ce-7d18-4c14-b349-9014c0d6db42",
   "metadata": {},
   "outputs": [
    {
     "data": {
      "text/html": [
       "<div>\n",
       "<style scoped>\n",
       "    .dataframe tbody tr th:only-of-type {\n",
       "        vertical-align: middle;\n",
       "    }\n",
       "\n",
       "    .dataframe tbody tr th {\n",
       "        vertical-align: top;\n",
       "    }\n",
       "\n",
       "    .dataframe thead th {\n",
       "        text-align: right;\n",
       "    }\n",
       "</style>\n",
       "<table border=\"1\" class=\"dataframe\">\n",
       "  <thead>\n",
       "    <tr style=\"text-align: right;\">\n",
       "      <th></th>\n",
       "      <th>0</th>\n",
       "      <th>1</th>\n",
       "      <th>2</th>\n",
       "      <th>3</th>\n",
       "      <th>4</th>\n",
       "      <th>5</th>\n",
       "      <th>6</th>\n",
       "    </tr>\n",
       "  </thead>\n",
       "  <tbody>\n",
       "    <tr>\n",
       "      <th>0</th>\n",
       "      <td>2023-09-01 10:00:00</td>\n",
       "      <td>143.20</td>\n",
       "      <td>143.32</td>\n",
       "      <td>143.85</td>\n",
       "      <td>143.14</td>\n",
       "      <td>826.9735</td>\n",
       "      <td>118602.865169</td>\n",
       "    </tr>\n",
       "    <tr>\n",
       "      <th>1</th>\n",
       "      <td>2023-09-01 11:00:00</td>\n",
       "      <td>143.30</td>\n",
       "      <td>143.46</td>\n",
       "      <td>143.57</td>\n",
       "      <td>142.54</td>\n",
       "      <td>1546.0530</td>\n",
       "      <td>221238.874522</td>\n",
       "    </tr>\n",
       "    <tr>\n",
       "      <th>2</th>\n",
       "      <td>2023-09-01 12:00:00</td>\n",
       "      <td>143.46</td>\n",
       "      <td>143.81</td>\n",
       "      <td>144.30</td>\n",
       "      <td>143.24</td>\n",
       "      <td>2410.4382</td>\n",
       "      <td>346882.228203</td>\n",
       "    </tr>\n",
       "    <tr>\n",
       "      <th>3</th>\n",
       "      <td>2023-09-01 13:00:00</td>\n",
       "      <td>143.81</td>\n",
       "      <td>143.63</td>\n",
       "      <td>144.36</td>\n",
       "      <td>143.22</td>\n",
       "      <td>1217.5627</td>\n",
       "      <td>175235.657008</td>\n",
       "    </tr>\n",
       "    <tr>\n",
       "      <th>4</th>\n",
       "      <td>2023-09-01 14:00:00</td>\n",
       "      <td>143.58</td>\n",
       "      <td>141.97</td>\n",
       "      <td>143.58</td>\n",
       "      <td>141.76</td>\n",
       "      <td>2270.6293</td>\n",
       "      <td>323269.850379</td>\n",
       "    </tr>\n",
       "    <tr>\n",
       "      <th>...</th>\n",
       "      <td>...</td>\n",
       "      <td>...</td>\n",
       "      <td>...</td>\n",
       "      <td>...</td>\n",
       "      <td>...</td>\n",
       "      <td>...</td>\n",
       "      <td>...</td>\n",
       "    </tr>\n",
       "    <tr>\n",
       "      <th>2180</th>\n",
       "      <td>2023-12-01 06:00:00</td>\n",
       "      <td>170.74</td>\n",
       "      <td>170.30</td>\n",
       "      <td>170.74</td>\n",
       "      <td>169.81</td>\n",
       "      <td>1355.9082</td>\n",
       "      <td>230709.296190</td>\n",
       "    </tr>\n",
       "    <tr>\n",
       "      <th>2181</th>\n",
       "      <td>2023-12-01 07:00:00</td>\n",
       "      <td>170.29</td>\n",
       "      <td>170.22</td>\n",
       "      <td>170.72</td>\n",
       "      <td>170.01</td>\n",
       "      <td>1183.3101</td>\n",
       "      <td>201589.853136</td>\n",
       "    </tr>\n",
       "    <tr>\n",
       "      <th>2182</th>\n",
       "      <td>2023-12-01 08:00:00</td>\n",
       "      <td>170.19</td>\n",
       "      <td>170.13</td>\n",
       "      <td>170.98</td>\n",
       "      <td>170.03</td>\n",
       "      <td>2044.0059</td>\n",
       "      <td>348464.781207</td>\n",
       "    </tr>\n",
       "    <tr>\n",
       "      <th>2183</th>\n",
       "      <td>2023-12-01 09:00:00</td>\n",
       "      <td>170.19</td>\n",
       "      <td>171.16</td>\n",
       "      <td>171.19</td>\n",
       "      <td>170.16</td>\n",
       "      <td>1567.4019</td>\n",
       "      <td>267323.473954</td>\n",
       "    </tr>\n",
       "    <tr>\n",
       "      <th>2184</th>\n",
       "      <td>2023-12-01 10:00:00</td>\n",
       "      <td>171.19</td>\n",
       "      <td>171.56</td>\n",
       "      <td>171.58</td>\n",
       "      <td>170.81</td>\n",
       "      <td>1407.2886</td>\n",
       "      <td>240973.039147</td>\n",
       "    </tr>\n",
       "  </tbody>\n",
       "</table>\n",
       "<p>2185 rows × 7 columns</p>\n",
       "</div>"
      ],
      "text/plain": [
       "                       0       1       2       3       4          5  \\\n",
       "0    2023-09-01 10:00:00  143.20  143.32  143.85  143.14   826.9735   \n",
       "1    2023-09-01 11:00:00  143.30  143.46  143.57  142.54  1546.0530   \n",
       "2    2023-09-01 12:00:00  143.46  143.81  144.30  143.24  2410.4382   \n",
       "3    2023-09-01 13:00:00  143.81  143.63  144.36  143.22  1217.5627   \n",
       "4    2023-09-01 14:00:00  143.58  141.97  143.58  141.76  2270.6293   \n",
       "...                  ...     ...     ...     ...     ...        ...   \n",
       "2180 2023-12-01 06:00:00  170.74  170.30  170.74  169.81  1355.9082   \n",
       "2181 2023-12-01 07:00:00  170.29  170.22  170.72  170.01  1183.3101   \n",
       "2182 2023-12-01 08:00:00  170.19  170.13  170.98  170.03  2044.0059   \n",
       "2183 2023-12-01 09:00:00  170.19  171.16  171.19  170.16  1567.4019   \n",
       "2184 2023-12-01 10:00:00  171.19  171.56  171.58  170.81  1407.2886   \n",
       "\n",
       "                  6  \n",
       "0     118602.865169  \n",
       "1     221238.874522  \n",
       "2     346882.228203  \n",
       "3     175235.657008  \n",
       "4     323269.850379  \n",
       "...             ...  \n",
       "2180  230709.296190  \n",
       "2181  201589.853136  \n",
       "2182  348464.781207  \n",
       "2183  267323.473954  \n",
       "2184  240973.039147  \n",
       "\n",
       "[2185 rows x 7 columns]"
      ]
     },
     "execution_count": 32,
     "metadata": {},
     "output_type": "execute_result"
    }
   ],
   "source": [
    "sp500\n",
    "#Attention, plus vieux en indice 0"
   ]
  },
  {
   "cell_type": "code",
   "execution_count": 33,
   "id": "3e7ddd5b-9c2d-4c13-8210-72a4adb61159",
   "metadata": {},
   "outputs": [
    {
     "data": {
      "text/plain": [
       "<AxesSubplot:>"
      ]
     },
     "execution_count": 33,
     "metadata": {},
     "output_type": "execute_result"
    },
    {
     "data": {
      "image/png": "[encoded data removed]",
      "text/plain": [
       "<Figure size 432x288 with 1 Axes>"
      ]
     },
     "metadata": {
      "needs_background": "light"
     },
     "output_type": "display_data"
    }
   ],
   "source": [
    "sp500.plot.line(y=CLOSE, use_index=True)"
   ]
  },
  {
   "cell_type": "code",
   "execution_count": 34,
   "id": "1b02b64d-9eef-489f-894d-26f9e6792db5",
   "metadata": {},
   "outputs": [],
   "source": [
    "del sp500[TURNOVER]"
   ]
  },
  {
   "cell_type": "code",
   "execution_count": 35,
   "id": "f25e1594-1cd2-47ae-bb50-a0d17ac35c69",
   "metadata": {},
   "outputs": [],
   "source": [
    "sp500[\"Tomorrow\"] = sp500[CLOSE].shift(-1)"
   ]
  },
  {
   "cell_type": "code",
   "execution_count": 36,
   "id": "871b16a1-9d77-40c8-8564-1947b438a113",
   "metadata": {},
   "outputs": [],
   "source": [
    "sp500[\"Target\"] = (sp500[\"Tomorrow\"] > sp500[CLOSE]).astype(int)"
   ]
  },
  {
   "cell_type": "code",
   "execution_count": 37,
   "id": "79e58626-3be6-45f7-b1aa-1786593e3bd6",
   "metadata": {},
   "outputs": [],
   "source": [
    "#sp500 = sp500.loc[\"1990-01-01\":].copy()"
   ]
  },
  {
   "cell_type": "code",
   "execution_count": 38,
   "id": "ad95d689-520a-4141-ab6e-a0fe3f9697a6",
   "metadata": {},
   "outputs": [
    {
     "data": {
      "text/plain": [
       "RandomForestClassifier(min_samples_split=100, random_state=1)"
      ]
     },
     "execution_count": 38,
     "metadata": {},
     "output_type": "execute_result"
    }
   ],
   "source": [
    "TIME = 0\n",
    "OPEN = 1\n",
    "CLOSE = 2\n",
    "HIGH= 3\n",
    "LOW = 4\n",
    "VOLUME = 5\n",
    "TURNOVER = 6\n",
    "\n",
    "from sklearn.ensemble import RandomForestClassifier\n",
    "\n",
    "model = RandomForestClassifier(n_estimators=100, min_samples_split=100, random_state=1)\n",
    "\n",
    "train = sp500.iloc[:-100]\n",
    "test = sp500.iloc[-100:]\n",
    "\n",
    "predictors = [CLOSE, VOLUME, OPEN, HIGH, LOW]\n",
    "\n",
    "model.fit(train[predictors], train[\"Target\"])"
   ]
  },
  {
   "cell_type": "code",
   "execution_count": 39,
   "id": "c0837787-5d4e-4a20-ad0d-3a546bc23cdb",
   "metadata": {},
   "outputs": [
    {
     "data": {
      "text/plain": [
       "0.5142857142857142"
      ]
     },
     "execution_count": 39,
     "metadata": {},
     "output_type": "execute_result"
    }
   ],
   "source": [
    "from sklearn.metrics import precision_score\n",
    "\n",
    "preds = model.predict(test[predictors])\n",
    "preds = pd.Series(preds, index=test.index)\n",
    "precision_score(test[\"Target\"], preds)"
   ]
  },
  {
   "cell_type": "code",
   "execution_count": 40,
   "id": "e33e349f-8365-4282-91db-3b5824e83262",
   "metadata": {},
   "outputs": [
    {
     "data": {
      "text/plain": [
       "<AxesSubplot:>"
      ]
     },
     "execution_count": 40,
     "metadata": {},
     "output_type": "execute_result"
    },
    {
     "data": {
      "image/png": "[encoded data removed]",
      "text/plain": [
       "<Figure size 432x288 with 1 Axes>"
      ]
     },
     "metadata": {
      "needs_background": "light"
     },
     "output_type": "display_data"
    }
   ],
   "source": [
    "combined = pd.concat([test[\"Target\"], preds], axis=1)\n",
    "combined.plot()"
   ]
  },
  {
   "cell_type": "code",
   "execution_count": 41,
   "id": "d4049497-0ee7-4399-83ab-ef61ccf71133",
   "metadata": {},
   "outputs": [],
   "source": [
    "def predict(train, test, predictors, model):\n",
    "    model.fit(train[predictors], train[\"Target\"])\n",
    "    preds = model.predict(test[predictors])\n",
    "    preds = pd.Series(preds, index=test.index, name=\"Predictions\")\n",
    "    combined = pd.concat([test[\"Target\"], preds], axis=1)\n",
    "    return combined"
   ]
  },
  {
   "cell_type": "code",
   "execution_count": 42,
   "id": "ca97d93a-6841-49ef-8f91-25a713baef16",
   "metadata": {},
   "outputs": [],
   "source": [
    "def backtest(data, model, predictors, start=1000, step=250):\n",
    "    all_predictions = []\n",
    "\n",
    "    for i in range(start, data.shape[0], step):\n",
    "        train = data.iloc[0:i].copy()\n",
    "        test = data.iloc[i:(i+step)].copy()\n",
    "        predictions = predict(train, test, predictors, model)\n",
    "        all_predictions.append(predictions)\n",
    "    \n",
    "    return pd.concat(all_predictions)"
   ]
  },
  {
   "cell_type": "code",
   "execution_count": 43,
   "id": "8a75261f-d2de-4bc6-9364-54d520c63985",
   "metadata": {},
   "outputs": [],
   "source": [
    "predictions = backtest(sp500, model, predictors)"
   ]
  },
  {
   "cell_type": "code",
   "execution_count": 44,
   "id": "439d8704-c55d-4d1f-a709-acdc0f485e87",
   "metadata": {},
   "outputs": [
    {
     "data": {
      "text/plain": [
       "1    639\n",
       "0    546\n",
       "Name: Predictions, dtype: int64"
      ]
     },
     "execution_count": 44,
     "metadata": {},
     "output_type": "execute_result"
    }
   ],
   "source": [
    "predictions[\"Predictions\"].value_counts()"
   ]
  },
  {
   "cell_type": "code",
   "execution_count": 45,
   "id": "bf105e8f-6be5-4494-9658-233761f1c4f4",
   "metadata": {},
   "outputs": [
    {
     "data": {
      "text/plain": [
       "0.5242566510172144"
      ]
     },
     "execution_count": 45,
     "metadata": {},
     "output_type": "execute_result"
    }
   ],
   "source": [
    "precision_score(predictions[\"Target\"], predictions[\"Predictions\"])"
   ]
  },
  {
   "cell_type": "code",
   "execution_count": 46,
   "id": "eff25a20-375e-444a-b5d3-b558753fc817",
   "metadata": {},
   "outputs": [
    {
     "data": {
      "text/plain": [
       "1    0.515612\n",
       "0    0.484388\n",
       "Name: Target, dtype: float64"
      ]
     },
     "execution_count": 46,
     "metadata": {},
     "output_type": "execute_result"
    }
   ],
   "source": [
    "predictions[\"Target\"].value_counts() / predictions.shape[0]"
   ]
  },
  {
   "cell_type": "code",
   "execution_count": 47,
   "id": "ed05ece5-f1f4-443a-b179-33c7e709ea4d",
   "metadata": {},
   "outputs": [],
   "source": [
    "horizons = [2,5,60,250,1000]\n",
    "new_predictors = []\n",
    "\n",
    "for horizon in horizons:\n",
    "    rolling_averages = sp500.rolling(horizon).mean()\n",
    "    \n",
    "    ratio_column = f\"Close_Ratio_{horizon}\"\n",
    "    sp500[ratio_column] = sp500[CLOSE] / rolling_averages[CLOSE]\n",
    "    \n",
    "    trend_column = f\"Trend_{horizon}\"\n",
    "    sp500[trend_column] = sp500.shift(1).rolling(horizon).sum()[\"Target\"]\n",
    "    \n",
    "    new_predictors+= [ratio_column, trend_column]"
   ]
  },
  {
   "cell_type": "code",
   "execution_count": 48,
   "id": "6c04ab2d-64ff-4f56-a206-605dcce30372",
   "metadata": {},
   "outputs": [],
   "source": [
    "sp500 = sp500.dropna(subset=sp500.columns[sp500.columns != \"Tomorrow\"])"
   ]
  },
  {
   "cell_type": "code",
   "execution_count": 49,
   "id": "fd7b2523-85a4-477d-975d-9cf64b1ff557",
   "metadata": {},
   "outputs": [
    {
     "data": {
      "text/html": [
       "<div>\n",
       "<style scoped>\n",
       "    .dataframe tbody tr th:only-of-type {\n",
       "        vertical-align: middle;\n",
       "    }\n",
       "\n",
       "    .dataframe tbody tr th {\n",
       "        vertical-align: top;\n",
       "    }\n",
       "\n",
       "    .dataframe thead th {\n",
       "        text-align: right;\n",
       "    }\n",
       "</style>\n",
       "<table border=\"1\" class=\"dataframe\">\n",
       "  <thead>\n",
       "    <tr style=\"text-align: right;\">\n",
       "      <th></th>\n",
       "      <th>0</th>\n",
       "      <th>1</th>\n",
       "      <th>2</th>\n",
       "      <th>3</th>\n",
       "      <th>4</th>\n",
       "      <th>5</th>\n",
       "      <th>Tomorrow</th>\n",
       "      <th>Target</th>\n",
       "      <th>Close_Ratio_2</th>\n",
       "      <th>Trend_2</th>\n",
       "      <th>Close_Ratio_5</th>\n",
       "      <th>Trend_5</th>\n",
       "      <th>Close_Ratio_60</th>\n",
       "      <th>Trend_60</th>\n",
       "      <th>Close_Ratio_250</th>\n",
       "      <th>Trend_250</th>\n",
       "      <th>Close_Ratio_1000</th>\n",
       "      <th>Trend_1000</th>\n",
       "    </tr>\n",
       "  </thead>\n",
       "  <tbody>\n",
       "    <tr>\n",
       "      <th>1000</th>\n",
       "      <td>2023-10-13 02:00:00</td>\n",
       "      <td>151.66</td>\n",
       "      <td>151.22</td>\n",
       "      <td>151.66</td>\n",
       "      <td>150.91</td>\n",
       "      <td>1937.6331</td>\n",
       "      <td>151.48</td>\n",
       "      <td>1</td>\n",
       "      <td>0.998646</td>\n",
       "      <td>0.0</td>\n",
       "      <td>0.995117</td>\n",
       "      <td>1.0</td>\n",
       "      <td>0.991524</td>\n",
       "      <td>29.0</td>\n",
       "      <td>0.998779</td>\n",
       "      <td>122.0</td>\n",
       "      <td>1.035921</td>\n",
       "      <td>509.0</td>\n",
       "    </tr>\n",
       "    <tr>\n",
       "      <th>1001</th>\n",
       "      <td>2023-10-13 03:00:00</td>\n",
       "      <td>151.22</td>\n",
       "      <td>151.48</td>\n",
       "      <td>152.04</td>\n",
       "      <td>150.75</td>\n",
       "      <td>1638.4566</td>\n",
       "      <td>152.17</td>\n",
       "      <td>1</td>\n",
       "      <td>1.000859</td>\n",
       "      <td>1.0</td>\n",
       "      <td>0.998313</td>\n",
       "      <td>1.0</td>\n",
       "      <td>0.993393</td>\n",
       "      <td>29.0</td>\n",
       "      <td>1.000388</td>\n",
       "      <td>123.0</td>\n",
       "      <td>1.037645</td>\n",
       "      <td>509.0</td>\n",
       "    </tr>\n",
       "    <tr>\n",
       "      <th>1002</th>\n",
       "      <td>2023-10-13 04:00:00</td>\n",
       "      <td>151.51</td>\n",
       "      <td>152.17</td>\n",
       "      <td>152.34</td>\n",
       "      <td>151.51</td>\n",
       "      <td>979.9496</td>\n",
       "      <td>152.72</td>\n",
       "      <td>1</td>\n",
       "      <td>1.002272</td>\n",
       "      <td>2.0</td>\n",
       "      <td>1.003178</td>\n",
       "      <td>2.0</td>\n",
       "      <td>0.998013</td>\n",
       "      <td>29.0</td>\n",
       "      <td>1.004787</td>\n",
       "      <td>124.0</td>\n",
       "      <td>1.042312</td>\n",
       "      <td>509.0</td>\n",
       "    </tr>\n",
       "    <tr>\n",
       "      <th>1003</th>\n",
       "      <td>2023-10-13 05:00:00</td>\n",
       "      <td>152.20</td>\n",
       "      <td>152.72</td>\n",
       "      <td>152.72</td>\n",
       "      <td>152.20</td>\n",
       "      <td>285.9473</td>\n",
       "      <td>152.09</td>\n",
       "      <td>0</td>\n",
       "      <td>1.001804</td>\n",
       "      <td>2.0</td>\n",
       "      <td>1.005769</td>\n",
       "      <td>3.0</td>\n",
       "      <td>1.001616</td>\n",
       "      <td>30.0</td>\n",
       "      <td>1.008264</td>\n",
       "      <td>124.0</td>\n",
       "      <td>1.046014</td>\n",
       "      <td>510.0</td>\n",
       "    </tr>\n",
       "    <tr>\n",
       "      <th>1004</th>\n",
       "      <td>2023-10-13 06:00:00</td>\n",
       "      <td>152.72</td>\n",
       "      <td>152.09</td>\n",
       "      <td>152.96</td>\n",
       "      <td>152.09</td>\n",
       "      <td>936.7367</td>\n",
       "      <td>152.75</td>\n",
       "      <td>1</td>\n",
       "      <td>0.997933</td>\n",
       "      <td>1.0</td>\n",
       "      <td>1.001014</td>\n",
       "      <td>3.0</td>\n",
       "      <td>0.997595</td>\n",
       "      <td>29.0</td>\n",
       "      <td>1.003966</td>\n",
       "      <td>124.0</td>\n",
       "      <td>1.041627</td>\n",
       "      <td>510.0</td>\n",
       "    </tr>\n",
       "    <tr>\n",
       "      <th>...</th>\n",
       "      <td>...</td>\n",
       "      <td>...</td>\n",
       "      <td>...</td>\n",
       "      <td>...</td>\n",
       "      <td>...</td>\n",
       "      <td>...</td>\n",
       "      <td>...</td>\n",
       "      <td>...</td>\n",
       "      <td>...</td>\n",
       "      <td>...</td>\n",
       "      <td>...</td>\n",
       "      <td>...</td>\n",
       "      <td>...</td>\n",
       "      <td>...</td>\n",
       "      <td>...</td>\n",
       "      <td>...</td>\n",
       "      <td>...</td>\n",
       "      <td>...</td>\n",
       "    </tr>\n",
       "    <tr>\n",
       "      <th>2180</th>\n",
       "      <td>2023-12-01 06:00:00</td>\n",
       "      <td>170.74</td>\n",
       "      <td>170.30</td>\n",
       "      <td>170.74</td>\n",
       "      <td>169.81</td>\n",
       "      <td>1355.9082</td>\n",
       "      <td>170.22</td>\n",
       "      <td>0</td>\n",
       "      <td>0.998827</td>\n",
       "      <td>0.0</td>\n",
       "      <td>0.998710</td>\n",
       "      <td>2.0</td>\n",
       "      <td>1.014836</td>\n",
       "      <td>27.0</td>\n",
       "      <td>1.019030</td>\n",
       "      <td>125.0</td>\n",
       "      <td>1.029964</td>\n",
       "      <td>519.0</td>\n",
       "    </tr>\n",
       "    <tr>\n",
       "      <th>2181</th>\n",
       "      <td>2023-12-01 07:00:00</td>\n",
       "      <td>170.29</td>\n",
       "      <td>170.22</td>\n",
       "      <td>170.72</td>\n",
       "      <td>170.01</td>\n",
       "      <td>1183.3101</td>\n",
       "      <td>170.13</td>\n",
       "      <td>0</td>\n",
       "      <td>0.999765</td>\n",
       "      <td>0.0</td>\n",
       "      <td>0.997925</td>\n",
       "      <td>2.0</td>\n",
       "      <td>1.014096</td>\n",
       "      <td>26.0</td>\n",
       "      <td>1.018387</td>\n",
       "      <td>124.0</td>\n",
       "      <td>1.029385</td>\n",
       "      <td>518.0</td>\n",
       "    </tr>\n",
       "    <tr>\n",
       "      <th>2182</th>\n",
       "      <td>2023-12-01 08:00:00</td>\n",
       "      <td>170.19</td>\n",
       "      <td>170.13</td>\n",
       "      <td>170.98</td>\n",
       "      <td>170.03</td>\n",
       "      <td>2044.0059</td>\n",
       "      <td>171.16</td>\n",
       "      <td>1</td>\n",
       "      <td>0.999736</td>\n",
       "      <td>0.0</td>\n",
       "      <td>0.998146</td>\n",
       "      <td>1.0</td>\n",
       "      <td>1.013249</td>\n",
       "      <td>26.0</td>\n",
       "      <td>1.017699</td>\n",
       "      <td>123.0</td>\n",
       "      <td>1.028743</td>\n",
       "      <td>518.0</td>\n",
       "    </tr>\n",
       "    <tr>\n",
       "      <th>2183</th>\n",
       "      <td>2023-12-01 09:00:00</td>\n",
       "      <td>170.19</td>\n",
       "      <td>171.16</td>\n",
       "      <td>171.19</td>\n",
       "      <td>170.16</td>\n",
       "      <td>1567.4019</td>\n",
       "      <td>171.56</td>\n",
       "      <td>1</td>\n",
       "      <td>1.003018</td>\n",
       "      <td>1.0</td>\n",
       "      <td>1.003859</td>\n",
       "      <td>1.0</td>\n",
       "      <td>1.018976</td>\n",
       "      <td>26.0</td>\n",
       "      <td>1.023659</td>\n",
       "      <td>124.0</td>\n",
       "      <td>1.034867</td>\n",
       "      <td>518.0</td>\n",
       "    </tr>\n",
       "    <tr>\n",
       "      <th>2184</th>\n",
       "      <td>2023-12-01 10:00:00</td>\n",
       "      <td>171.19</td>\n",
       "      <td>171.56</td>\n",
       "      <td>171.58</td>\n",
       "      <td>170.81</td>\n",
       "      <td>1407.2886</td>\n",
       "      <td>NaN</td>\n",
       "      <td>0</td>\n",
       "      <td>1.001167</td>\n",
       "      <td>2.0</td>\n",
       "      <td>1.005191</td>\n",
       "      <td>2.0</td>\n",
       "      <td>1.020868</td>\n",
       "      <td>27.0</td>\n",
       "      <td>1.025856</td>\n",
       "      <td>124.0</td>\n",
       "      <td>1.037180</td>\n",
       "      <td>518.0</td>\n",
       "    </tr>\n",
       "  </tbody>\n",
       "</table>\n",
       "<p>1185 rows × 18 columns</p>\n",
       "</div>"
      ],
      "text/plain": [
       "                       0       1       2       3       4          5  Tomorrow  \\\n",
       "1000 2023-10-13 02:00:00  151.66  151.22  151.66  150.91  1937.6331    151.48   \n",
       "1001 2023-10-13 03:00:00  151.22  151.48  152.04  150.75  1638.4566    152.17   \n",
       "1002 2023-10-13 04:00:00  151.51  152.17  152.34  151.51   979.9496    152.72   \n",
       "1003 2023-10-13 05:00:00  152.20  152.72  152.72  152.20   285.9473    152.09   \n",
       "1004 2023-10-13 06:00:00  152.72  152.09  152.96  152.09   936.7367    152.75   \n",
       "...                  ...     ...     ...     ...     ...        ...       ...   \n",
       "2180 2023-12-01 06:00:00  170.74  170.30  170.74  169.81  1355.9082    170.22   \n",
       "2181 2023-12-01 07:00:00  170.29  170.22  170.72  170.01  1183.3101    170.13   \n",
       "2182 2023-12-01 08:00:00  170.19  170.13  170.98  170.03  2044.0059    171.16   \n",
       "2183 2023-12-01 09:00:00  170.19  171.16  171.19  170.16  1567.4019    171.56   \n",
       "2184 2023-12-01 10:00:00  171.19  171.56  171.58  170.81  1407.2886       NaN   \n",
       "\n",
       "      Target  Close_Ratio_2  Trend_2  Close_Ratio_5  Trend_5  Close_Ratio_60  \\\n",
       "1000       1       0.998646      0.0       0.995117      1.0        0.991524   \n",
       "1001       1       1.000859      1.0       0.998313      1.0        0.993393   \n",
       "1002       1       1.002272      2.0       1.003178      2.0        0.998013   \n",
       "1003       0       1.001804      2.0       1.005769      3.0        1.001616   \n",
       "1004       1       0.997933      1.0       1.001014      3.0        0.997595   \n",
       "...      ...            ...      ...            ...      ...             ...   \n",
       "2180       0       0.998827      0.0       0.998710      2.0        1.014836   \n",
       "2181       0       0.999765      0.0       0.997925      2.0        1.014096   \n",
       "2182       1       0.999736      0.0       0.998146      1.0        1.013249   \n",
       "2183       1       1.003018      1.0       1.003859      1.0        1.018976   \n",
       "2184       0       1.001167      2.0       1.005191      2.0        1.020868   \n",
       "\n",
       "      Trend_60  Close_Ratio_250  Trend_250  Close_Ratio_1000  Trend_1000  \n",
       "1000      29.0         0.998779      122.0          1.035921       509.0  \n",
       "1001      29.0         1.000388      123.0          1.037645       509.0  \n",
       "1002      29.0         1.004787      124.0          1.042312       509.0  \n",
       "1003      30.0         1.008264      124.0          1.046014       510.0  \n",
       "1004      29.0         1.003966      124.0          1.041627       510.0  \n",
       "...        ...              ...        ...               ...         ...  \n",
       "2180      27.0         1.019030      125.0          1.029964       519.0  \n",
       "2181      26.0         1.018387      124.0          1.029385       518.0  \n",
       "2182      26.0         1.017699      123.0          1.028743       518.0  \n",
       "2183      26.0         1.023659      124.0          1.034867       518.0  \n",
       "2184      27.0         1.025856      124.0          1.037180       518.0  \n",
       "\n",
       "[1185 rows x 18 columns]"
      ]
     },
     "execution_count": 49,
     "metadata": {},
     "output_type": "execute_result"
    }
   ],
   "source": [
    "sp500"
   ]
  },
  {
   "cell_type": "code",
   "execution_count": 50,
   "id": "283be581-dbe1-4f02-8851-ff1a027b4104",
   "metadata": {},
   "outputs": [],
   "source": [
    "model = RandomForestClassifier(n_estimators=200, min_samples_split=50, random_state=1)"
   ]
  },
  {
   "cell_type": "code",
   "execution_count": 51,
   "id": "a843303c-a247-4f6d-9505-cc711ca95afa",
   "metadata": {},
   "outputs": [],
   "source": [
    "def predict(train, test, predictors, model):\n",
    "    model.fit(train[predictors], train[\"Target\"])\n",
    "    preds = model.predict_proba(test[predictors])[:,1]\n",
    "    preds[preds >=.6] = 1\n",
    "    preds[preds <.6] = 0\n",
    "    preds = pd.Series(preds, index=test.index, name=\"Predictions\")\n",
    "    combined = pd.concat([test[\"Target\"], preds], axis=1)\n",
    "    return combined"
   ]
  },
  {
   "cell_type": "code",
   "execution_count": 52,
   "id": "fb820946-1275-4914-b6a8-355e96f315b6",
   "metadata": {},
   "outputs": [],
   "source": [
    "predictions = backtest(sp500, model, new_predictors)"
   ]
  },
  {
   "cell_type": "code",
   "execution_count": 53,
   "id": "a73e1816-283a-47ac-af43-4550b80307ef",
   "metadata": {},
   "outputs": [
    {
     "data": {
      "text/plain": [
       "0.0    153\n",
       "1.0     32\n",
       "Name: Predictions, dtype: int64"
      ]
     },
     "execution_count": 53,
     "metadata": {},
     "output_type": "execute_result"
    }
   ],
   "source": [
    "predictions[\"Predictions\"].value_counts()"
   ]
  },
  {
   "cell_type": "code",
   "execution_count": 54,
   "id": "14acc336-4991-4189-bb16-4a8bf53056e1",
   "metadata": {},
   "outputs": [
    {
     "data": {
      "text/plain": [
       "0.6875"
      ]
     },
     "execution_count": 54,
     "metadata": {},
     "output_type": "execute_result"
    }
   ],
   "source": [
    "precision_score(predictions[\"Target\"], predictions[\"Predictions\"])"
   ]
  },
  {
   "cell_type": "code",
   "execution_count": 55,
   "id": "21b3d365-2157-4229-a785-ae687da0f21f",
   "metadata": {},
   "outputs": [
    {
     "data": {
      "text/plain": [
       "0    0.545946\n",
       "1    0.454054\n",
       "Name: Target, dtype: float64"
      ]
     },
     "execution_count": 55,
     "metadata": {},
     "output_type": "execute_result"
    }
   ],
   "source": [
    "predictions[\"Target\"].value_counts() / predictions.shape[0]"
   ]
  },
  {
   "cell_type": "code",
   "execution_count": 56,
   "id": "ef08fff5-0dd5-4d86-9d0d-8ce9f7443865",
   "metadata": {},
   "outputs": [
    {
     "data": {
      "text/html": [
       "<div>\n",
       "<style scoped>\n",
       "    .dataframe tbody tr th:only-of-type {\n",
       "        vertical-align: middle;\n",
       "    }\n",
       "\n",
       "    .dataframe tbody tr th {\n",
       "        vertical-align: top;\n",
       "    }\n",
       "\n",
       "    .dataframe thead th {\n",
       "        text-align: right;\n",
       "    }\n",
       "</style>\n",
       "<table border=\"1\" class=\"dataframe\">\n",
       "  <thead>\n",
       "    <tr style=\"text-align: right;\">\n",
       "      <th></th>\n",
       "      <th>Target</th>\n",
       "      <th>Predictions</th>\n",
       "    </tr>\n",
       "  </thead>\n",
       "  <tbody>\n",
       "    <tr>\n",
       "      <th>2000</th>\n",
       "      <td>0</td>\n",
       "      <td>0.0</td>\n",
       "    </tr>\n",
       "    <tr>\n",
       "      <th>2001</th>\n",
       "      <td>1</td>\n",
       "      <td>0.0</td>\n",
       "    </tr>\n",
       "    <tr>\n",
       "      <th>2002</th>\n",
       "      <td>0</td>\n",
       "      <td>0.0</td>\n",
       "    </tr>\n",
       "    <tr>\n",
       "      <th>2003</th>\n",
       "      <td>0</td>\n",
       "      <td>0.0</td>\n",
       "    </tr>\n",
       "    <tr>\n",
       "      <th>2004</th>\n",
       "      <td>0</td>\n",
       "      <td>0.0</td>\n",
       "    </tr>\n",
       "    <tr>\n",
       "      <th>...</th>\n",
       "      <td>...</td>\n",
       "      <td>...</td>\n",
       "    </tr>\n",
       "    <tr>\n",
       "      <th>2180</th>\n",
       "      <td>0</td>\n",
       "      <td>1.0</td>\n",
       "    </tr>\n",
       "    <tr>\n",
       "      <th>2181</th>\n",
       "      <td>0</td>\n",
       "      <td>0.0</td>\n",
       "    </tr>\n",
       "    <tr>\n",
       "      <th>2182</th>\n",
       "      <td>1</td>\n",
       "      <td>1.0</td>\n",
       "    </tr>\n",
       "    <tr>\n",
       "      <th>2183</th>\n",
       "      <td>1</td>\n",
       "      <td>0.0</td>\n",
       "    </tr>\n",
       "    <tr>\n",
       "      <th>2184</th>\n",
       "      <td>0</td>\n",
       "      <td>0.0</td>\n",
       "    </tr>\n",
       "  </tbody>\n",
       "</table>\n",
       "<p>185 rows × 2 columns</p>\n",
       "</div>"
      ],
      "text/plain": [
       "      Target  Predictions\n",
       "2000       0          0.0\n",
       "2001       1          0.0\n",
       "2002       0          0.0\n",
       "2003       0          0.0\n",
       "2004       0          0.0\n",
       "...      ...          ...\n",
       "2180       0          1.0\n",
       "2181       0          0.0\n",
       "2182       1          1.0\n",
       "2183       1          0.0\n",
       "2184       0          0.0\n",
       "\n",
       "[185 rows x 2 columns]"
      ]
     },
     "execution_count": 56,
     "metadata": {},
     "output_type": "execute_result"
    }
   ],
   "source": [
    "predictions"
   ]
  },
  {
   "cell_type": "code",
   "execution_count": null,
   "id": "b2d35fd3-7038-4e69-bcbd-bde42c1f5e33",
   "metadata": {},
   "outputs": [],
   "source": []
  },
  {
   "cell_type": "code",
   "execution_count": null,
   "id": "9e7bd5b0-6854-4131-9894-24d603746a08",
   "metadata": {},
   "outputs": [],
   "source": []
  },
  {
   "cell_type": "code",
   "execution_count": null,
   "id": "e5d98c4b-059c-4856-982a-ee6295225bec",
   "metadata": {},
   "outputs": [],
   "source": []
  }
 ],
 "metadata": {
  "kernelspec": {
   "display_name": "Python 3 (ipykernel)",
   "language": "python",
   "name": "python3"
  },
  "language_info": {
   "codemirror_mode": {
    "name": "ipython",
    "version": 3
   },
   "file_extension": ".py",
   "mimetype": "text/x-python",
   "name": "python",
   "nbconvert_exporter": "python",
   "pygments_lexer": "ipython3",
   "version": "3.9.7"
  }
 },
 "nbformat": 4,
 "nbformat_minor": 5
}
